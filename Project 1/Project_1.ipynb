{
 "cells": [
  {
   "cell_type": "markdown",
   "metadata": {
    "id": "nGO3Ur9iAIm0"
   },
   "source": [
    "# Project 1\n",
    "\n",
    "## DS120"
   ]
  },
  {
   "cell_type": "code",
   "execution_count": 1,
   "metadata": {
    "id": "hWbGgV5rBYLR"
   },
   "outputs": [],
   "source": [
    "import numpy as np \n",
    "import pandas as pd"
   ]
  },
  {
   "cell_type": "code",
   "execution_count": 2,
   "metadata": {
    "id": "XxEsa7gNBphZ"
   },
   "outputs": [],
   "source": [
    "student = {'name':['Bill', 'Tayo', 'Jack', 'Liam', 'Sophie', 'Esther', 'Drack', 'Andrew', 'Favour', 'David'],\n",
    "           'relationship':['Married', 'Divorced', 'Married', 'Single', 'Divorced', 'Single', 'Single', 'Single', 'Single', 'Single'],\n",
    "           'age':[32, 45, 28, 23, 40, 24, 22, 19, 25, 27],\n",
    "           'department':['Biology Education', 'Electrical Engineering', 'Computer Science', 'Law', 'Civil Engineering', 'Psychology', 'Physiology', 'Industrial Chemistry', 'Pharmacy', 'Demography']}"
   ]
  },
  {
   "cell_type": "code",
   "execution_count": 3,
   "metadata": {
    "id": "TOtLTr73Atj3"
   },
   "outputs": [],
   "source": [
    "student['cgpa'] = [4.6, 3.9, 2.9, 3.0, 4.8, 3.6, 4.2, 4.5, 3.9, 4.0 ]"
   ]
  },
  {
   "cell_type": "code",
   "execution_count": 4,
   "metadata": {
    "id": "J8r6HT8oB4as"
   },
   "outputs": [
    {
     "data": {
      "text/plain": [
       "['Married',\n",
       " 'Divorced',\n",
       " 'Married',\n",
       " 'Single',\n",
       " 'Divorced',\n",
       " 'Single',\n",
       " 'Single',\n",
       " 'Single',\n",
       " 'Single',\n",
       " 'Single']"
      ]
     },
     "execution_count": 4,
     "metadata": {},
     "output_type": "execute_result"
    }
   ],
   "source": [
    "student.pop('relationship')  "
   ]
  },
  {
   "cell_type": "code",
   "execution_count": 5,
   "metadata": {
    "id": "Zhu_W-axCPS1"
   },
   "outputs": [],
   "source": [
    "df = pd.DataFrame(student)  "
   ]
  },
  {
   "cell_type": "code",
   "execution_count": 6,
   "metadata": {
    "id": "Xo3wLmlpCWYk"
   },
   "outputs": [],
   "source": [
    "df['admission_date'] =['2020-04-17 13:45', '2009-09-11 14:30', '2010-03-12 15:00', '2011-08-21 13:00', '2018-12-16 15:45', '2019-06-19 14:40', '2022-01-17 14:00', '2017-04-23 16:00', '2015-07-14 10:07', '2016-04-29 08:00'] #complete the code\n",
    "df['gender'] = ['Male', 'Female', 'Male', 'Male', 'Female', 'Female', 'Male', 'Male', 'Female', 'Male']\n"
   ]
  },
  {
   "cell_type": "code",
   "execution_count": 7,
   "metadata": {
    "id": "Q8OluagoCmJk"
   },
   "outputs": [
    {
     "data": {
      "text/html": [
       "<div>\n",
       "<style scoped>\n",
       "    .dataframe tbody tr th:only-of-type {\n",
       "        vertical-align: middle;\n",
       "    }\n",
       "\n",
       "    .dataframe tbody tr th {\n",
       "        vertical-align: top;\n",
       "    }\n",
       "\n",
       "    .dataframe thead th {\n",
       "        text-align: right;\n",
       "    }\n",
       "</style>\n",
       "<table border=\"1\" class=\"dataframe\">\n",
       "  <thead>\n",
       "    <tr style=\"text-align: right;\">\n",
       "      <th></th>\n",
       "      <th>name</th>\n",
       "      <th>age</th>\n",
       "      <th>department</th>\n",
       "      <th>cgpa</th>\n",
       "      <th>admission_date</th>\n",
       "      <th>gender</th>\n",
       "    </tr>\n",
       "  </thead>\n",
       "  <tbody>\n",
       "    <tr>\n",
       "      <th>0</th>\n",
       "      <td>Bill</td>\n",
       "      <td>32</td>\n",
       "      <td>Biology Education</td>\n",
       "      <td>4.6</td>\n",
       "      <td>2020-04-17 13:45</td>\n",
       "      <td>Male</td>\n",
       "    </tr>\n",
       "    <tr>\n",
       "      <th>1</th>\n",
       "      <td>Tayo</td>\n",
       "      <td>45</td>\n",
       "      <td>Electrical Engineering</td>\n",
       "      <td>3.9</td>\n",
       "      <td>2009-09-11 14:30</td>\n",
       "      <td>Female</td>\n",
       "    </tr>\n",
       "    <tr>\n",
       "      <th>2</th>\n",
       "      <td>Jack</td>\n",
       "      <td>28</td>\n",
       "      <td>Computer Science</td>\n",
       "      <td>2.9</td>\n",
       "      <td>2010-03-12 15:00</td>\n",
       "      <td>Male</td>\n",
       "    </tr>\n",
       "    <tr>\n",
       "      <th>3</th>\n",
       "      <td>Liam</td>\n",
       "      <td>23</td>\n",
       "      <td>Law</td>\n",
       "      <td>3.0</td>\n",
       "      <td>2011-08-21 13:00</td>\n",
       "      <td>Male</td>\n",
       "    </tr>\n",
       "    <tr>\n",
       "      <th>4</th>\n",
       "      <td>Sophie</td>\n",
       "      <td>40</td>\n",
       "      <td>Civil Engineering</td>\n",
       "      <td>4.8</td>\n",
       "      <td>2018-12-16 15:45</td>\n",
       "      <td>Female</td>\n",
       "    </tr>\n",
       "    <tr>\n",
       "      <th>5</th>\n",
       "      <td>Esther</td>\n",
       "      <td>24</td>\n",
       "      <td>Psychology</td>\n",
       "      <td>3.6</td>\n",
       "      <td>2019-06-19 14:40</td>\n",
       "      <td>Female</td>\n",
       "    </tr>\n",
       "    <tr>\n",
       "      <th>6</th>\n",
       "      <td>Drack</td>\n",
       "      <td>22</td>\n",
       "      <td>Physiology</td>\n",
       "      <td>4.2</td>\n",
       "      <td>2022-01-17 14:00</td>\n",
       "      <td>Male</td>\n",
       "    </tr>\n",
       "    <tr>\n",
       "      <th>7</th>\n",
       "      <td>Andrew</td>\n",
       "      <td>19</td>\n",
       "      <td>Industrial Chemistry</td>\n",
       "      <td>4.5</td>\n",
       "      <td>2017-04-23 16:00</td>\n",
       "      <td>Male</td>\n",
       "    </tr>\n",
       "    <tr>\n",
       "      <th>8</th>\n",
       "      <td>Favour</td>\n",
       "      <td>25</td>\n",
       "      <td>Pharmacy</td>\n",
       "      <td>3.9</td>\n",
       "      <td>2015-07-14 10:07</td>\n",
       "      <td>Female</td>\n",
       "    </tr>\n",
       "    <tr>\n",
       "      <th>9</th>\n",
       "      <td>David</td>\n",
       "      <td>27</td>\n",
       "      <td>Demography</td>\n",
       "      <td>4.0</td>\n",
       "      <td>2016-04-29 08:00</td>\n",
       "      <td>Male</td>\n",
       "    </tr>\n",
       "  </tbody>\n",
       "</table>\n",
       "</div>"
      ],
      "text/plain": [
       "     name  age              department  cgpa    admission_date  gender\n",
       "0    Bill   32       Biology Education   4.6  2020-04-17 13:45    Male\n",
       "1    Tayo   45  Electrical Engineering   3.9  2009-09-11 14:30  Female\n",
       "2    Jack   28        Computer Science   2.9  2010-03-12 15:00    Male\n",
       "3    Liam   23                     Law   3.0  2011-08-21 13:00    Male\n",
       "4  Sophie   40       Civil Engineering   4.8  2018-12-16 15:45  Female\n",
       "5  Esther   24              Psychology   3.6  2019-06-19 14:40  Female\n",
       "6   Drack   22              Physiology   4.2  2022-01-17 14:00    Male\n",
       "7  Andrew   19    Industrial Chemistry   4.5  2017-04-23 16:00    Male\n",
       "8  Favour   25                Pharmacy   3.9  2015-07-14 10:07  Female\n",
       "9   David   27              Demography   4.0  2016-04-29 08:00    Male"
      ]
     },
     "execution_count": 7,
     "metadata": {},
     "output_type": "execute_result"
    }
   ],
   "source": [
    "df"
   ]
  },
  {
   "cell_type": "code",
   "execution_count": 8,
   "metadata": {
    "id": "1mdRG0GVCubT"
   },
   "outputs": [
    {
     "data": {
      "text/html": [
       "<div>\n",
       "<style scoped>\n",
       "    .dataframe tbody tr th:only-of-type {\n",
       "        vertical-align: middle;\n",
       "    }\n",
       "\n",
       "    .dataframe tbody tr th {\n",
       "        vertical-align: top;\n",
       "    }\n",
       "\n",
       "    .dataframe thead th {\n",
       "        text-align: right;\n",
       "    }\n",
       "</style>\n",
       "<table border=\"1\" class=\"dataframe\">\n",
       "  <thead>\n",
       "    <tr style=\"text-align: right;\">\n",
       "      <th></th>\n",
       "      <th>Name</th>\n",
       "      <th>Age</th>\n",
       "      <th>Department</th>\n",
       "      <th>Admission_date</th>\n",
       "      <th>Gender</th>\n",
       "    </tr>\n",
       "  </thead>\n",
       "  <tbody>\n",
       "    <tr>\n",
       "      <th>0</th>\n",
       "      <td>Dayo</td>\n",
       "      <td>32</td>\n",
       "      <td>Mathematic Education</td>\n",
       "      <td>2020-03-13 15:45</td>\n",
       "      <td>Male</td>\n",
       "    </tr>\n",
       "    <tr>\n",
       "      <th>1</th>\n",
       "      <td>Cole</td>\n",
       "      <td>45</td>\n",
       "      <td>Chemical Engineering</td>\n",
       "      <td>1999-05-17 12:30</td>\n",
       "      <td>Female</td>\n",
       "    </tr>\n",
       "    <tr>\n",
       "      <th>2</th>\n",
       "      <td>Eva</td>\n",
       "      <td>28</td>\n",
       "      <td>Microbiology</td>\n",
       "      <td>2012-07-21 14:15</td>\n",
       "      <td>Female</td>\n",
       "    </tr>\n",
       "    <tr>\n",
       "      <th>3</th>\n",
       "      <td>Bode</td>\n",
       "      <td>23</td>\n",
       "      <td>Insurance</td>\n",
       "      <td>2007-12-03 12:00</td>\n",
       "      <td>Male</td>\n",
       "    </tr>\n",
       "    <tr>\n",
       "      <th>4</th>\n",
       "      <td>William</td>\n",
       "      <td>40</td>\n",
       "      <td>Dramatic Art</td>\n",
       "      <td>2021-04-12 13:45</td>\n",
       "      <td>Male</td>\n",
       "    </tr>\n",
       "    <tr>\n",
       "      <th>5</th>\n",
       "      <td>John</td>\n",
       "      <td>24</td>\n",
       "      <td>sociology</td>\n",
       "      <td>2019-03-11 14:30</td>\n",
       "      <td>Male</td>\n",
       "    </tr>\n",
       "    <tr>\n",
       "      <th>6</th>\n",
       "      <td>Mark</td>\n",
       "      <td>22</td>\n",
       "      <td>English</td>\n",
       "      <td>2011-03-10 11:00</td>\n",
       "      <td>Male</td>\n",
       "    </tr>\n",
       "    <tr>\n",
       "      <th>7</th>\n",
       "      <td>Paul</td>\n",
       "      <td>19</td>\n",
       "      <td>Chemistry</td>\n",
       "      <td>2015-08-24 09:00</td>\n",
       "      <td>Male</td>\n",
       "    </tr>\n",
       "    <tr>\n",
       "      <th>8</th>\n",
       "      <td>Elijah</td>\n",
       "      <td>25</td>\n",
       "      <td>Geology</td>\n",
       "      <td>2017-12-13 15:15</td>\n",
       "      <td>Male</td>\n",
       "    </tr>\n",
       "    <tr>\n",
       "      <th>9</th>\n",
       "      <td>Samson</td>\n",
       "      <td>27</td>\n",
       "      <td>Political science</td>\n",
       "      <td>2014-06-11 08:40</td>\n",
       "      <td>Male</td>\n",
       "    </tr>\n",
       "  </tbody>\n",
       "</table>\n",
       "</div>"
      ],
      "text/plain": [
       "      Name  Age            Department    Admission_date  Gender\n",
       "0     Dayo   32  Mathematic Education  2020-03-13 15:45    Male\n",
       "1     Cole   45  Chemical Engineering  1999-05-17 12:30  Female\n",
       "2      Eva   28         Microbiology   2012-07-21 14:15  Female\n",
       "3     Bode   23             Insurance  2007-12-03 12:00    Male\n",
       "4  William   40          Dramatic Art  2021-04-12 13:45    Male\n",
       "5     John   24             sociology  2019-03-11 14:30    Male\n",
       "6     Mark   22               English  2011-03-10 11:00    Male\n",
       "7     Paul   19             Chemistry  2015-08-24 09:00    Male\n",
       "8   Elijah   25               Geology  2017-12-13 15:15    Male\n",
       "9   Samson   27     Political science  2014-06-11 08:40    Male"
      ]
     },
     "execution_count": 8,
     "metadata": {},
     "output_type": "execute_result"
    }
   ],
   "source": [
    "name=['Dayo', 'Cole', 'Eva', 'Bode', 'William', 'John', 'Mark', 'Paul', 'Elijah', 'Samson']\n",
    "age=[32, 45, 28, 23, 40, 24, 22, 19, 25, 27]\n",
    "department=['Mathematic Education', 'Chemical Engineering', 'Microbiology ', 'Insurance', 'Dramatic Art', 'sociology', 'English', 'Chemistry', 'Geology', 'Political science']\n",
    "admission_date = ['2020-03-13 15:45', '1999-05-17 12:30', '2012-07-21 14:15', '2007-12-03 12:00', '2021-04-12 13:45', '2019-03-11 14:30', '2011-03-10 11:00', '2015-08-24 09:00', '2017-12-13 15:15', '2014-06-11 08:40'] \n",
    "gender = ['Male', 'Female', 'Female', 'Male', 'Male', 'Male', 'Male', 'Male', 'Male', 'Male']\n",
    "df2 = pd.DataFrame({'Name':name, 'Age':age, 'Department':department, 'Admission_date':admission_date, 'Gender':gender})\n",
    "df2"
   ]
  },
  {
   "cell_type": "code",
   "execution_count": 9,
   "metadata": {
    "id": "iv23O91TC5jc"
   },
   "outputs": [],
   "source": [
    "df['admission_date'] = pd.to_datetime (df['admission_date'])\n",
    "df['year'] = df['admission_date'].dt.year\n",
    "df['month'] = df['admission_date'].dt.month\n",
    "df['day'] = df['admission_date'].dt.day"
   ]
  },
  {
   "cell_type": "code",
   "execution_count": 10,
   "metadata": {
    "id": "r-yzmTL9Drp8"
   },
   "outputs": [
    {
     "data": {
      "text/plain": [
       "name                      object\n",
       "age                        int64\n",
       "department                object\n",
       "cgpa                     float64\n",
       "admission_date    datetime64[ns]\n",
       "gender                    object\n",
       "year                       int64\n",
       "month                      int64\n",
       "day                        int64\n",
       "dtype: object"
      ]
     },
     "execution_count": 10,
     "metadata": {},
     "output_type": "execute_result"
    }
   ],
   "source": [
    "df.dtypes"
   ]
  },
  {
   "cell_type": "code",
   "execution_count": 11,
   "metadata": {},
   "outputs": [
    {
     "data": {
      "text/plain": [
       "name              0\n",
       "age               0\n",
       "department        0\n",
       "cgpa              0\n",
       "admission_date    0\n",
       "gender            0\n",
       "year              0\n",
       "month             0\n",
       "day               0\n",
       "dtype: int64"
      ]
     },
     "execution_count": 11,
     "metadata": {},
     "output_type": "execute_result"
    }
   ],
   "source": [
    "df.isnull().sum()"
   ]
  },
  {
   "cell_type": "code",
   "execution_count": 12,
   "metadata": {},
   "outputs": [
    {
     "data": {
      "text/plain": [
       "name              0.0\n",
       "age               0.0\n",
       "department        0.0\n",
       "cgpa              0.0\n",
       "admission_date    0.0\n",
       "gender            0.0\n",
       "year              0.0\n",
       "month             0.0\n",
       "day               0.0\n",
       "dtype: float64"
      ]
     },
     "execution_count": 12,
     "metadata": {},
     "output_type": "execute_result"
    }
   ],
   "source": [
    "df.isnull().sum()/df.shape[0]*100"
   ]
  },
  {
   "cell_type": "code",
   "execution_count": 13,
   "metadata": {},
   "outputs": [
    {
     "data": {
      "text/plain": [
       "array(['Bill', 'Tayo', 'Jack', 'Liam', 'Sophie', 'Esther', 'Drack',\n",
       "       'Andrew', 'Favour', 'David'], dtype=object)"
      ]
     },
     "execution_count": 13,
     "metadata": {},
     "output_type": "execute_result"
    }
   ],
   "source": [
    "df.name.unique()"
   ]
  },
  {
   "cell_type": "code",
   "execution_count": 14,
   "metadata": {},
   "outputs": [
    {
     "data": {
      "text/plain": [
       "array([32, 45, 28, 23, 40, 24, 22, 19, 25, 27], dtype=int64)"
      ]
     },
     "execution_count": 14,
     "metadata": {},
     "output_type": "execute_result"
    }
   ],
   "source": [
    "df.age.unique()"
   ]
  },
  {
   "cell_type": "code",
   "execution_count": 15,
   "metadata": {},
   "outputs": [
    {
     "data": {
      "text/plain": [
       "array(['Biology Education', 'Electrical Engineering', 'Computer Science',\n",
       "       'Law', 'Civil Engineering', 'Psychology', 'Physiology',\n",
       "       'Industrial Chemistry', 'Pharmacy', 'Demography'], dtype=object)"
      ]
     },
     "execution_count": 15,
     "metadata": {},
     "output_type": "execute_result"
    }
   ],
   "source": [
    "df.department.unique()"
   ]
  },
  {
   "cell_type": "code",
   "execution_count": 16,
   "metadata": {},
   "outputs": [
    {
     "data": {
      "text/plain": [
       "array([4.6, 3.9, 2.9, 3. , 4.8, 3.6, 4.2, 4.5, 4. ])"
      ]
     },
     "execution_count": 16,
     "metadata": {},
     "output_type": "execute_result"
    }
   ],
   "source": [
    "df.cgpa.unique()"
   ]
  },
  {
   "cell_type": "code",
   "execution_count": 17,
   "metadata": {},
   "outputs": [
    {
     "data": {
      "text/plain": [
       "array(['2020-04-17T13:45:00.000000000', '2009-09-11T14:30:00.000000000',\n",
       "       '2010-03-12T15:00:00.000000000', '2011-08-21T13:00:00.000000000',\n",
       "       '2018-12-16T15:45:00.000000000', '2019-06-19T14:40:00.000000000',\n",
       "       '2022-01-17T14:00:00.000000000', '2017-04-23T16:00:00.000000000',\n",
       "       '2015-07-14T10:07:00.000000000', '2016-04-29T08:00:00.000000000'],\n",
       "      dtype='datetime64[ns]')"
      ]
     },
     "execution_count": 17,
     "metadata": {},
     "output_type": "execute_result"
    }
   ],
   "source": [
    "df.admission_date.unique()"
   ]
  },
  {
   "cell_type": "code",
   "execution_count": 18,
   "metadata": {},
   "outputs": [
    {
     "data": {
      "text/plain": [
       "array(['Male', 'Female'], dtype=object)"
      ]
     },
     "execution_count": 18,
     "metadata": {},
     "output_type": "execute_result"
    }
   ],
   "source": [
    "df.gender.unique()"
   ]
  },
  {
   "cell_type": "code",
   "execution_count": 19,
   "metadata": {},
   "outputs": [
    {
     "data": {
      "text/plain": [
       "array([2020, 2009, 2010, 2011, 2018, 2019, 2022, 2017, 2015, 2016],\n",
       "      dtype=int64)"
      ]
     },
     "execution_count": 19,
     "metadata": {},
     "output_type": "execute_result"
    }
   ],
   "source": [
    "df.year.unique()"
   ]
  },
  {
   "cell_type": "code",
   "execution_count": 20,
   "metadata": {},
   "outputs": [
    {
     "data": {
      "text/plain": [
       "array([ 4,  9,  3,  8, 12,  6,  1,  7], dtype=int64)"
      ]
     },
     "execution_count": 20,
     "metadata": {},
     "output_type": "execute_result"
    }
   ],
   "source": [
    "df.month.unique()"
   ]
  },
  {
   "cell_type": "code",
   "execution_count": 21,
   "metadata": {},
   "outputs": [
    {
     "data": {
      "text/plain": [
       "array([17, 11, 12, 21, 16, 19, 23, 14, 29], dtype=int64)"
      ]
     },
     "execution_count": 21,
     "metadata": {},
     "output_type": "execute_result"
    }
   ],
   "source": [
    "df.day.unique()"
   ]
  },
  {
   "cell_type": "code",
   "execution_count": 22,
   "metadata": {},
   "outputs": [
    {
     "data": {
      "text/plain": [
       "name              10\n",
       "age               10\n",
       "department        10\n",
       "cgpa               9\n",
       "admission_date    10\n",
       "gender             2\n",
       "year              10\n",
       "month              8\n",
       "day                9\n",
       "dtype: int64"
      ]
     },
     "execution_count": 22,
     "metadata": {},
     "output_type": "execute_result"
    }
   ],
   "source": [
    "df.nunique()"
   ]
  },
  {
   "cell_type": "code",
   "execution_count": 23,
   "metadata": {},
   "outputs": [
    {
     "data": {
      "text/plain": [
       "Drack     1\n",
       "Sophie    1\n",
       "Jack      1\n",
       "Bill      1\n",
       "David     1\n",
       "Tayo      1\n",
       "Esther    1\n",
       "Favour    1\n",
       "Liam      1\n",
       "Andrew    1\n",
       "Name: name, dtype: int64"
      ]
     },
     "execution_count": 23,
     "metadata": {},
     "output_type": "execute_result"
    }
   ],
   "source": [
    "df.name.value_counts()"
   ]
  },
  {
   "cell_type": "code",
   "execution_count": 24,
   "metadata": {},
   "outputs": [
    {
     "data": {
      "text/plain": [
       "45    1\n",
       "28    1\n",
       "24    1\n",
       "25    1\n",
       "40    1\n",
       "23    1\n",
       "22    1\n",
       "19    1\n",
       "27    1\n",
       "32    1\n",
       "Name: age, dtype: int64"
      ]
     },
     "execution_count": 24,
     "metadata": {},
     "output_type": "execute_result"
    }
   ],
   "source": [
    "df.age.value_counts()"
   ]
  },
  {
   "cell_type": "code",
   "execution_count": 25,
   "metadata": {},
   "outputs": [
    {
     "data": {
      "text/plain": [
       "Physiology                1\n",
       "Computer Science          1\n",
       "Demography                1\n",
       "Law                       1\n",
       "Psychology                1\n",
       "Pharmacy                  1\n",
       "Electrical Engineering    1\n",
       "Biology Education         1\n",
       "Industrial Chemistry      1\n",
       "Civil Engineering         1\n",
       "Name: department, dtype: int64"
      ]
     },
     "execution_count": 25,
     "metadata": {},
     "output_type": "execute_result"
    }
   ],
   "source": [
    "df.department.value_counts()"
   ]
  },
  {
   "cell_type": "code",
   "execution_count": 26,
   "metadata": {},
   "outputs": [
    {
     "data": {
      "text/plain": [
       "2017-04-23 16:00:00    1\n",
       "2019-06-19 14:40:00    1\n",
       "2016-04-29 08:00:00    1\n",
       "2015-07-14 10:07:00    1\n",
       "2011-08-21 13:00:00    1\n",
       "2020-04-17 13:45:00    1\n",
       "2022-01-17 14:00:00    1\n",
       "2018-12-16 15:45:00    1\n",
       "2010-03-12 15:00:00    1\n",
       "2009-09-11 14:30:00    1\n",
       "Name: admission_date, dtype: int64"
      ]
     },
     "execution_count": 26,
     "metadata": {},
     "output_type": "execute_result"
    }
   ],
   "source": [
    "df.admission_date.value_counts()"
   ]
  },
  {
   "cell_type": "code",
   "execution_count": 27,
   "metadata": {},
   "outputs": [
    {
     "data": {
      "text/plain": [
       "Male      6\n",
       "Female    4\n",
       "Name: gender, dtype: int64"
      ]
     },
     "execution_count": 27,
     "metadata": {},
     "output_type": "execute_result"
    }
   ],
   "source": [
    "df.gender.value_counts()"
   ]
  },
  {
   "cell_type": "code",
   "execution_count": 28,
   "metadata": {},
   "outputs": [
    {
     "data": {
      "text/plain": [
       "2015    1\n",
       "2011    1\n",
       "2010    1\n",
       "2009    1\n",
       "2022    1\n",
       "2020    1\n",
       "2019    1\n",
       "2018    1\n",
       "2017    1\n",
       "2016    1\n",
       "Name: year, dtype: int64"
      ]
     },
     "execution_count": 28,
     "metadata": {},
     "output_type": "execute_result"
    }
   ],
   "source": [
    "df.year.value_counts()"
   ]
  },
  {
   "cell_type": "code",
   "execution_count": 29,
   "metadata": {},
   "outputs": [
    {
     "data": {
      "text/plain": [
       "4     3\n",
       "12    1\n",
       "9     1\n",
       "8     1\n",
       "7     1\n",
       "6     1\n",
       "3     1\n",
       "1     1\n",
       "Name: month, dtype: int64"
      ]
     },
     "execution_count": 29,
     "metadata": {},
     "output_type": "execute_result"
    }
   ],
   "source": [
    "df.month.value_counts()"
   ]
  },
  {
   "cell_type": "code",
   "execution_count": 30,
   "metadata": {},
   "outputs": [
    {
     "data": {
      "text/plain": [
       "17    2\n",
       "14    1\n",
       "29    1\n",
       "12    1\n",
       "11    1\n",
       "23    1\n",
       "21    1\n",
       "19    1\n",
       "16    1\n",
       "Name: day, dtype: int64"
      ]
     },
     "execution_count": 30,
     "metadata": {},
     "output_type": "execute_result"
    }
   ],
   "source": [
    "df.day.value_counts()"
   ]
  },
  {
   "cell_type": "code",
   "execution_count": 31,
   "metadata": {
    "id": "gJozSZyOAE4I"
   },
   "outputs": [
    {
     "name": "stdout",
     "output_type": "stream",
     "text": [
      "<class 'pandas.core.frame.DataFrame'>\n",
      "RangeIndex: 10 entries, 0 to 9\n",
      "Data columns (total 9 columns):\n",
      " #   Column          Non-Null Count  Dtype         \n",
      "---  ------          --------------  -----         \n",
      " 0   name            10 non-null     object        \n",
      " 1   age             10 non-null     int64         \n",
      " 2   department      10 non-null     object        \n",
      " 3   cgpa            10 non-null     float64       \n",
      " 4   admission_date  10 non-null     datetime64[ns]\n",
      " 5   gender          10 non-null     object        \n",
      " 6   year            10 non-null     int64         \n",
      " 7   month           10 non-null     int64         \n",
      " 8   day             10 non-null     int64         \n",
      "dtypes: datetime64[ns](1), float64(1), int64(4), object(3)\n",
      "memory usage: 848.0+ bytes\n"
     ]
    }
   ],
   "source": [
    "df.info()"
   ]
  },
  {
   "cell_type": "code",
   "execution_count": 32,
   "metadata": {},
   "outputs": [
    {
     "data": {
      "text/html": [
       "<div>\n",
       "<style scoped>\n",
       "    .dataframe tbody tr th:only-of-type {\n",
       "        vertical-align: middle;\n",
       "    }\n",
       "\n",
       "    .dataframe tbody tr th {\n",
       "        vertical-align: top;\n",
       "    }\n",
       "\n",
       "    .dataframe thead th {\n",
       "        text-align: right;\n",
       "    }\n",
       "</style>\n",
       "<table border=\"1\" class=\"dataframe\">\n",
       "  <thead>\n",
       "    <tr style=\"text-align: right;\">\n",
       "      <th></th>\n",
       "      <th>age</th>\n",
       "      <th>cgpa</th>\n",
       "      <th>year</th>\n",
       "      <th>month</th>\n",
       "      <th>day</th>\n",
       "    </tr>\n",
       "  </thead>\n",
       "  <tbody>\n",
       "    <tr>\n",
       "      <th>count</th>\n",
       "      <td>10.000000</td>\n",
       "      <td>10.000000</td>\n",
       "      <td>10.000000</td>\n",
       "      <td>10.000000</td>\n",
       "      <td>10.00000</td>\n",
       "    </tr>\n",
       "    <tr>\n",
       "      <th>mean</th>\n",
       "      <td>28.500000</td>\n",
       "      <td>3.940000</td>\n",
       "      <td>2015.700000</td>\n",
       "      <td>5.800000</td>\n",
       "      <td>17.90000</td>\n",
       "    </tr>\n",
       "    <tr>\n",
       "      <th>std</th>\n",
       "      <td>8.263037</td>\n",
       "      <td>0.636309</td>\n",
       "      <td>4.423423</td>\n",
       "      <td>3.259175</td>\n",
       "      <td>5.40473</td>\n",
       "    </tr>\n",
       "    <tr>\n",
       "      <th>min</th>\n",
       "      <td>19.000000</td>\n",
       "      <td>2.900000</td>\n",
       "      <td>2009.000000</td>\n",
       "      <td>1.000000</td>\n",
       "      <td>11.00000</td>\n",
       "    </tr>\n",
       "    <tr>\n",
       "      <th>25%</th>\n",
       "      <td>23.250000</td>\n",
       "      <td>3.675000</td>\n",
       "      <td>2012.000000</td>\n",
       "      <td>4.000000</td>\n",
       "      <td>14.50000</td>\n",
       "    </tr>\n",
       "    <tr>\n",
       "      <th>50%</th>\n",
       "      <td>26.000000</td>\n",
       "      <td>3.950000</td>\n",
       "      <td>2016.500000</td>\n",
       "      <td>5.000000</td>\n",
       "      <td>17.00000</td>\n",
       "    </tr>\n",
       "    <tr>\n",
       "      <th>75%</th>\n",
       "      <td>31.000000</td>\n",
       "      <td>4.425000</td>\n",
       "      <td>2018.750000</td>\n",
       "      <td>7.750000</td>\n",
       "      <td>20.50000</td>\n",
       "    </tr>\n",
       "    <tr>\n",
       "      <th>max</th>\n",
       "      <td>45.000000</td>\n",
       "      <td>4.800000</td>\n",
       "      <td>2022.000000</td>\n",
       "      <td>12.000000</td>\n",
       "      <td>29.00000</td>\n",
       "    </tr>\n",
       "  </tbody>\n",
       "</table>\n",
       "</div>"
      ],
      "text/plain": [
       "             age       cgpa         year      month       day\n",
       "count  10.000000  10.000000    10.000000  10.000000  10.00000\n",
       "mean   28.500000   3.940000  2015.700000   5.800000  17.90000\n",
       "std     8.263037   0.636309     4.423423   3.259175   5.40473\n",
       "min    19.000000   2.900000  2009.000000   1.000000  11.00000\n",
       "25%    23.250000   3.675000  2012.000000   4.000000  14.50000\n",
       "50%    26.000000   3.950000  2016.500000   5.000000  17.00000\n",
       "75%    31.000000   4.425000  2018.750000   7.750000  20.50000\n",
       "max    45.000000   4.800000  2022.000000  12.000000  29.00000"
      ]
     },
     "execution_count": 32,
     "metadata": {},
     "output_type": "execute_result"
    }
   ],
   "source": [
    "df.describe()"
   ]
  },
  {
   "cell_type": "code",
   "execution_count": 33,
   "metadata": {
    "id": "8Nts3QA4D6qb"
   },
   "outputs": [
    {
     "data": {
      "text/plain": [
       "(10, 9)"
      ]
     },
     "execution_count": 33,
     "metadata": {},
     "output_type": "execute_result"
    }
   ],
   "source": [
    "df.shape"
   ]
  },
  {
   "cell_type": "code",
   "execution_count": 34,
   "metadata": {
    "id": "0QrErZ0BEB2H"
   },
   "outputs": [
    {
     "data": {
      "text/html": [
       "<div>\n",
       "<style scoped>\n",
       "    .dataframe tbody tr th:only-of-type {\n",
       "        vertical-align: middle;\n",
       "    }\n",
       "\n",
       "    .dataframe tbody tr th {\n",
       "        vertical-align: top;\n",
       "    }\n",
       "\n",
       "    .dataframe thead th {\n",
       "        text-align: right;\n",
       "    }\n",
       "</style>\n",
       "<table border=\"1\" class=\"dataframe\">\n",
       "  <thead>\n",
       "    <tr style=\"text-align: right;\">\n",
       "      <th></th>\n",
       "      <th>name</th>\n",
       "      <th>age</th>\n",
       "      <th>department</th>\n",
       "      <th>cgpa</th>\n",
       "      <th>admission_date</th>\n",
       "      <th>gender</th>\n",
       "      <th>year</th>\n",
       "      <th>month</th>\n",
       "      <th>day</th>\n",
       "    </tr>\n",
       "  </thead>\n",
       "  <tbody>\n",
       "    <tr>\n",
       "      <th>0</th>\n",
       "      <td>Bill</td>\n",
       "      <td>32</td>\n",
       "      <td>Biology Education</td>\n",
       "      <td>4.6</td>\n",
       "      <td>2020-04-17 13:45:00</td>\n",
       "      <td>Male</td>\n",
       "      <td>2020</td>\n",
       "      <td>4</td>\n",
       "      <td>17</td>\n",
       "    </tr>\n",
       "    <tr>\n",
       "      <th>2</th>\n",
       "      <td>Jack</td>\n",
       "      <td>28</td>\n",
       "      <td>Computer Science</td>\n",
       "      <td>2.9</td>\n",
       "      <td>2010-03-12 15:00:00</td>\n",
       "      <td>Male</td>\n",
       "      <td>2010</td>\n",
       "      <td>3</td>\n",
       "      <td>12</td>\n",
       "    </tr>\n",
       "    <tr>\n",
       "      <th>3</th>\n",
       "      <td>Liam</td>\n",
       "      <td>23</td>\n",
       "      <td>Law</td>\n",
       "      <td>3.0</td>\n",
       "      <td>2011-08-21 13:00:00</td>\n",
       "      <td>Male</td>\n",
       "      <td>2011</td>\n",
       "      <td>8</td>\n",
       "      <td>21</td>\n",
       "    </tr>\n",
       "    <tr>\n",
       "      <th>6</th>\n",
       "      <td>Drack</td>\n",
       "      <td>22</td>\n",
       "      <td>Physiology</td>\n",
       "      <td>4.2</td>\n",
       "      <td>2022-01-17 14:00:00</td>\n",
       "      <td>Male</td>\n",
       "      <td>2022</td>\n",
       "      <td>1</td>\n",
       "      <td>17</td>\n",
       "    </tr>\n",
       "    <tr>\n",
       "      <th>7</th>\n",
       "      <td>Andrew</td>\n",
       "      <td>19</td>\n",
       "      <td>Industrial Chemistry</td>\n",
       "      <td>4.5</td>\n",
       "      <td>2017-04-23 16:00:00</td>\n",
       "      <td>Male</td>\n",
       "      <td>2017</td>\n",
       "      <td>4</td>\n",
       "      <td>23</td>\n",
       "    </tr>\n",
       "    <tr>\n",
       "      <th>9</th>\n",
       "      <td>David</td>\n",
       "      <td>27</td>\n",
       "      <td>Demography</td>\n",
       "      <td>4.0</td>\n",
       "      <td>2016-04-29 08:00:00</td>\n",
       "      <td>Male</td>\n",
       "      <td>2016</td>\n",
       "      <td>4</td>\n",
       "      <td>29</td>\n",
       "    </tr>\n",
       "  </tbody>\n",
       "</table>\n",
       "</div>"
      ],
      "text/plain": [
       "     name  age            department  cgpa      admission_date gender  year  \\\n",
       "0    Bill   32     Biology Education   4.6 2020-04-17 13:45:00   Male  2020   \n",
       "2    Jack   28      Computer Science   2.9 2010-03-12 15:00:00   Male  2010   \n",
       "3    Liam   23                   Law   3.0 2011-08-21 13:00:00   Male  2011   \n",
       "6   Drack   22            Physiology   4.2 2022-01-17 14:00:00   Male  2022   \n",
       "7  Andrew   19  Industrial Chemistry   4.5 2017-04-23 16:00:00   Male  2017   \n",
       "9   David   27            Demography   4.0 2016-04-29 08:00:00   Male  2016   \n",
       "\n",
       "   month  day  \n",
       "0      4   17  \n",
       "2      3   12  \n",
       "3      8   21  \n",
       "6      1   17  \n",
       "7      4   23  \n",
       "9      4   29  "
      ]
     },
     "execution_count": 34,
     "metadata": {},
     "output_type": "execute_result"
    }
   ],
   "source": [
    "df[df['gender']=='Male']"
   ]
  },
  {
   "cell_type": "code",
   "execution_count": 35,
   "metadata": {
    "id": "YXDDh1EPEbi-"
   },
   "outputs": [
    {
     "data": {
      "text/plain": [
       "3.94"
      ]
     },
     "execution_count": 35,
     "metadata": {},
     "output_type": "execute_result"
    }
   ],
   "source": [
    "df['cgpa'].mean()"
   ]
  },
  {
   "cell_type": "code",
   "execution_count": 36,
   "metadata": {},
   "outputs": [
    {
     "data": {
      "text/plain": [
       "4.8"
      ]
     },
     "execution_count": 36,
     "metadata": {},
     "output_type": "execute_result"
    }
   ],
   "source": [
    "df['cgpa'].max()"
   ]
  },
  {
   "cell_type": "code",
   "execution_count": 37,
   "metadata": {},
   "outputs": [
    {
     "data": {
      "text/plain": [
       "2.9"
      ]
     },
     "execution_count": 37,
     "metadata": {},
     "output_type": "execute_result"
    }
   ],
   "source": [
    "df['cgpa'].min()"
   ]
  },
  {
   "cell_type": "code",
   "execution_count": 38,
   "metadata": {},
   "outputs": [
    {
     "data": {
      "text/plain": [
       "39.4"
      ]
     },
     "execution_count": 38,
     "metadata": {},
     "output_type": "execute_result"
    }
   ],
   "source": [
    "df['cgpa'].sum()"
   ]
  },
  {
   "cell_type": "code",
   "execution_count": 39,
   "metadata": {
    "id": "sEcyjUZSEo-7"
   },
   "outputs": [
    {
     "data": {
      "text/html": [
       "<div>\n",
       "<style scoped>\n",
       "    .dataframe tbody tr th:only-of-type {\n",
       "        vertical-align: middle;\n",
       "    }\n",
       "\n",
       "    .dataframe tbody tr th {\n",
       "        vertical-align: top;\n",
       "    }\n",
       "\n",
       "    .dataframe thead th {\n",
       "        text-align: right;\n",
       "    }\n",
       "</style>\n",
       "<table border=\"1\" class=\"dataframe\">\n",
       "  <thead>\n",
       "    <tr style=\"text-align: right;\">\n",
       "      <th></th>\n",
       "      <th>name</th>\n",
       "      <th>age</th>\n",
       "      <th>department</th>\n",
       "      <th>cgpa</th>\n",
       "      <th>admission_date</th>\n",
       "      <th>gender</th>\n",
       "      <th>year</th>\n",
       "      <th>month</th>\n",
       "      <th>day</th>\n",
       "    </tr>\n",
       "  </thead>\n",
       "  <tbody>\n",
       "    <tr>\n",
       "      <th>0</th>\n",
       "      <td>Bill</td>\n",
       "      <td>32</td>\n",
       "      <td>Biology Education</td>\n",
       "      <td>4.6</td>\n",
       "      <td>2020-04-17 13:45:00</td>\n",
       "      <td>Male</td>\n",
       "      <td>2020</td>\n",
       "      <td>4</td>\n",
       "      <td>17</td>\n",
       "    </tr>\n",
       "    <tr>\n",
       "      <th>1</th>\n",
       "      <td>Tayo</td>\n",
       "      <td>45</td>\n",
       "      <td>Electrical Engineering</td>\n",
       "      <td>3.9</td>\n",
       "      <td>2009-09-11 14:30:00</td>\n",
       "      <td>Female</td>\n",
       "      <td>2009</td>\n",
       "      <td>9</td>\n",
       "      <td>11</td>\n",
       "    </tr>\n",
       "    <tr>\n",
       "      <th>2</th>\n",
       "      <td>Jack</td>\n",
       "      <td>28</td>\n",
       "      <td>Computer Science</td>\n",
       "      <td>2.9</td>\n",
       "      <td>2010-03-12 15:00:00</td>\n",
       "      <td>Male</td>\n",
       "      <td>2010</td>\n",
       "      <td>3</td>\n",
       "      <td>12</td>\n",
       "    </tr>\n",
       "    <tr>\n",
       "      <th>3</th>\n",
       "      <td>Liam</td>\n",
       "      <td>23</td>\n",
       "      <td>Law</td>\n",
       "      <td>3.0</td>\n",
       "      <td>2011-08-21 13:00:00</td>\n",
       "      <td>Male</td>\n",
       "      <td>2011</td>\n",
       "      <td>8</td>\n",
       "      <td>21</td>\n",
       "    </tr>\n",
       "    <tr>\n",
       "      <th>4</th>\n",
       "      <td>Sophie</td>\n",
       "      <td>40</td>\n",
       "      <td>Civil Engineering</td>\n",
       "      <td>4.8</td>\n",
       "      <td>2018-12-16 15:45:00</td>\n",
       "      <td>Female</td>\n",
       "      <td>2018</td>\n",
       "      <td>12</td>\n",
       "      <td>16</td>\n",
       "    </tr>\n",
       "    <tr>\n",
       "      <th>5</th>\n",
       "      <td>Esther</td>\n",
       "      <td>24</td>\n",
       "      <td>Psychology</td>\n",
       "      <td>3.6</td>\n",
       "      <td>2019-06-19 14:40:00</td>\n",
       "      <td>Female</td>\n",
       "      <td>2019</td>\n",
       "      <td>6</td>\n",
       "      <td>19</td>\n",
       "    </tr>\n",
       "    <tr>\n",
       "      <th>6</th>\n",
       "      <td>Drack</td>\n",
       "      <td>22</td>\n",
       "      <td>Physiology</td>\n",
       "      <td>4.2</td>\n",
       "      <td>2022-01-17 14:00:00</td>\n",
       "      <td>Male</td>\n",
       "      <td>2022</td>\n",
       "      <td>1</td>\n",
       "      <td>17</td>\n",
       "    </tr>\n",
       "    <tr>\n",
       "      <th>7</th>\n",
       "      <td>Andrew</td>\n",
       "      <td>19</td>\n",
       "      <td>Industrial Chemistry</td>\n",
       "      <td>4.5</td>\n",
       "      <td>2017-04-23 16:00:00</td>\n",
       "      <td>Male</td>\n",
       "      <td>2017</td>\n",
       "      <td>4</td>\n",
       "      <td>23</td>\n",
       "    </tr>\n",
       "    <tr>\n",
       "      <th>8</th>\n",
       "      <td>Favour</td>\n",
       "      <td>25</td>\n",
       "      <td>Pharmacy</td>\n",
       "      <td>3.9</td>\n",
       "      <td>2015-07-14 10:07:00</td>\n",
       "      <td>Female</td>\n",
       "      <td>2015</td>\n",
       "      <td>7</td>\n",
       "      <td>14</td>\n",
       "    </tr>\n",
       "    <tr>\n",
       "      <th>9</th>\n",
       "      <td>David</td>\n",
       "      <td>27</td>\n",
       "      <td>Demography</td>\n",
       "      <td>4.0</td>\n",
       "      <td>2016-04-29 08:00:00</td>\n",
       "      <td>Male</td>\n",
       "      <td>2016</td>\n",
       "      <td>4</td>\n",
       "      <td>29</td>\n",
       "    </tr>\n",
       "  </tbody>\n",
       "</table>\n",
       "</div>"
      ],
      "text/plain": [
       "     name  age              department  cgpa      admission_date  gender  \\\n",
       "0    Bill   32       Biology Education   4.6 2020-04-17 13:45:00    Male   \n",
       "1    Tayo   45  Electrical Engineering   3.9 2009-09-11 14:30:00  Female   \n",
       "2    Jack   28        Computer Science   2.9 2010-03-12 15:00:00    Male   \n",
       "3    Liam   23                     Law   3.0 2011-08-21 13:00:00    Male   \n",
       "4  Sophie   40       Civil Engineering   4.8 2018-12-16 15:45:00  Female   \n",
       "5  Esther   24              Psychology   3.6 2019-06-19 14:40:00  Female   \n",
       "6   Drack   22              Physiology   4.2 2022-01-17 14:00:00    Male   \n",
       "7  Andrew   19    Industrial Chemistry   4.5 2017-04-23 16:00:00    Male   \n",
       "8  Favour   25                Pharmacy   3.9 2015-07-14 10:07:00  Female   \n",
       "9   David   27              Demography   4.0 2016-04-29 08:00:00    Male   \n",
       "\n",
       "   year  month  day  \n",
       "0  2020      4   17  \n",
       "1  2009      9   11  \n",
       "2  2010      3   12  \n",
       "3  2011      8   21  \n",
       "4  2018     12   16  \n",
       "5  2019      6   19  \n",
       "6  2022      1   17  \n",
       "7  2017      4   23  \n",
       "8  2015      7   14  \n",
       "9  2016      4   29  "
      ]
     },
     "execution_count": 39,
     "metadata": {},
     "output_type": "execute_result"
    }
   ],
   "source": [
    "df"
   ]
  },
  {
   "cell_type": "code",
   "execution_count": 40,
   "metadata": {},
   "outputs": [],
   "source": [
    "df.to_csv('df.csv', index=False)"
   ]
  }
 ],
 "metadata": {
  "colab": {
   "authorship_tag": "ABX9TyOn23+qsrgPpXUhxRcz/zDS",
   "collapsed_sections": [],
   "include_colab_link": true,
   "name": "Project 1.ipynb",
   "provenance": []
  },
  "kernelspec": {
   "display_name": "Python 3",
   "language": "python",
   "name": "python3"
  },
  "language_info": {
   "codemirror_mode": {
    "name": "ipython",
    "version": 3
   },
   "file_extension": ".py",
   "mimetype": "text/x-python",
   "name": "python",
   "nbconvert_exporter": "python",
   "pygments_lexer": "ipython3",
   "version": "3.8.3"
  }
 },
 "nbformat": 4,
 "nbformat_minor": 1
}
